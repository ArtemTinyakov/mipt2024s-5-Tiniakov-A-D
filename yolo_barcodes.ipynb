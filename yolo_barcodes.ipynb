{
 "cells": [
  {
   "cell_type": "code",
   "execution_count": 1,
   "id": "9b43cc76-7c43-4bf3-8e93-2f5f6b6387fc",
   "metadata": {},
   "outputs": [],
   "source": [
    "from ultralytics import YOLO\n",
    "import cv2\n",
    "\n",
    "model = YOLO(\"yolo8x-segment-barcodes-bboxed.pt\")\n",
    "# accepts all formats - image/dir/Path/URL/video/PIL/ndarray. 0 for webcam\n",
    "# results = model.predict(source=\"0\")\n",
    "# results = model.predict(source=\"folder\", show=True) # Display preds. Accepts all YOLO predict arguments\n",
    "\n",
    "# from ndarray\n",
    "# img = cv2.imread(\"C:/Users/Artem/bboxed_barcodes_dataset/Training/images/msg886302187-765211.jpg\")\n",
    "# results = model.predict(source=img, save=True, save_txt=True)  # save predictions as labels"
   ]
  },
  {
   "cell_type": "code",
   "execution_count": 2,
   "id": "57daf3a1-01cc-4ae1-9a33-fbede178b3a4",
   "metadata": {
    "scrolled": true
   },
   "outputs": [
    {
     "name": "stdout",
     "output_type": "stream",
     "text": [
      "\n",
      "image 1/49 C:\\Users\\Artem\\bboxed_barcodes_dataset\\Validation\\images\\msg886302187-765200.jpg: 256x256 1 2d, 20.0ms\n",
      "image 2/49 C:\\Users\\Artem\\bboxed_barcodes_dataset\\Validation\\images\\msg886302187-765201.jpg: 256x256 1 2d, 16.0ms\n",
      "image 3/49 C:\\Users\\Artem\\bboxed_barcodes_dataset\\Validation\\images\\msg886302187-7652010.jpg: 160x256 1 2d, 190.0ms\n",
      "image 4/49 C:\\Users\\Artem\\bboxed_barcodes_dataset\\Validation\\images\\msg886302187-7652011.jpg: 192x256 1 2d, 200.0ms\n",
      "image 5/49 C:\\Users\\Artem\\bboxed_barcodes_dataset\\Validation\\images\\msg886302187-765202.jpg: 256x224 1 2d, 219.9ms\n",
      "image 6/49 C:\\Users\\Artem\\bboxed_barcodes_dataset\\Validation\\images\\msg886302187-765203.jpg: 224x256 1 2d, 203.7ms\n",
      "image 7/49 C:\\Users\\Artem\\bboxed_barcodes_dataset\\Validation\\images\\msg886302187-765204.jpg: 256x256 1 2d, 19.0ms\n",
      "image 8/49 C:\\Users\\Artem\\bboxed_barcodes_dataset\\Validation\\images\\msg886302187-765205.jpg: 224x256 1 2d, 25.0ms\n",
      "image 9/49 C:\\Users\\Artem\\bboxed_barcodes_dataset\\Validation\\images\\msg886302187-765206.jpg: 256x256 1 2d, 25.0ms\n",
      "image 10/49 C:\\Users\\Artem\\bboxed_barcodes_dataset\\Validation\\images\\msg886302187-765207.jpg: 256x256 1 2d, 20.0ms\n",
      "image 11/49 C:\\Users\\Artem\\bboxed_barcodes_dataset\\Validation\\images\\msg886302187-765208.jpg: 192x256 1 2d, 18.0ms\n",
      "image 12/49 C:\\Users\\Artem\\bboxed_barcodes_dataset\\Validation\\images\\msg886302187-765209.jpg: 160x256 1 2d, 18.0ms\n",
      "image 13/49 C:\\Users\\Artem\\bboxed_barcodes_dataset\\Validation\\images\\msg886302187-765210.jpg: 256x160 1 1d, 189.0ms\n",
      "image 14/49 C:\\Users\\Artem\\bboxed_barcodes_dataset\\Validation\\images\\msg886302187-765211.jpg: 256x256 1 2d, 31.0ms\n",
      "image 15/49 C:\\Users\\Artem\\bboxed_barcodes_dataset\\Validation\\images\\msg886302187-765212.jpg: 192x256 1 2d, 26.0ms\n",
      "image 16/49 C:\\Users\\Artem\\bboxed_barcodes_dataset\\Validation\\images\\msg886302187-765213.jpg: 160x256 1 1d, 19.0ms\n",
      "image 17/49 C:\\Users\\Artem\\bboxed_barcodes_dataset\\Validation\\images\\msg886302187-765214.jpg: 256x96 1 1d, 188.5ms\n",
      "image 18/49 C:\\Users\\Artem\\bboxed_barcodes_dataset\\Validation\\images\\msg886302187-765215.jpg: 192x256 1 1d, 19.1ms\n",
      "image 19/49 C:\\Users\\Artem\\bboxed_barcodes_dataset\\Validation\\images\\msg886302187-765220.jpg: 96x256 1 1d, 186.1ms\n",
      "image 20/49 C:\\Users\\Artem\\bboxed_barcodes_dataset\\Validation\\images\\msg886302187-765221.jpg: 96x256 1 1d, 18.0ms\n",
      "image 21/49 C:\\Users\\Artem\\bboxed_barcodes_dataset\\Validation\\images\\msg886302187-7652210.jpg: 256x256 1 1d, 2 2ds, 18.1ms\n",
      "image 22/49 C:\\Users\\Artem\\bboxed_barcodes_dataset\\Validation\\images\\msg886302187-7652211.jpg: 256x256 1 1d, 1 2d, 18.0ms\n",
      "image 23/49 C:\\Users\\Artem\\bboxed_barcodes_dataset\\Validation\\images\\msg886302187-765222.jpg: 256x224 1 1d, 1 2d, 18.1ms\n",
      "image 24/49 C:\\Users\\Artem\\bboxed_barcodes_dataset\\Validation\\images\\msg886302187-765223.jpg: 256x256 1 1d, 1 2d, 18.0ms\n",
      "image 25/49 C:\\Users\\Artem\\bboxed_barcodes_dataset\\Validation\\images\\msg886302187-765224.jpg: 160x256 2 1ds, 19.0ms\n",
      "image 26/49 C:\\Users\\Artem\\bboxed_barcodes_dataset\\Validation\\images\\msg886302187-765225.jpg: 128x256 1 1d, 188.0ms\n",
      "image 27/49 C:\\Users\\Artem\\bboxed_barcodes_dataset\\Validation\\images\\msg886302187-765226.jpg: 192x256 1 1d, 19.0ms\n",
      "image 28/49 C:\\Users\\Artem\\bboxed_barcodes_dataset\\Validation\\images\\msg886302187-765227.jpg: 96x256 1 1d, 19.0ms\n",
      "image 29/49 C:\\Users\\Artem\\bboxed_barcodes_dataset\\Validation\\images\\msg886302187-765228.jpg: 96x256 1 1d, 16.9ms\n",
      "image 30/49 C:\\Users\\Artem\\bboxed_barcodes_dataset\\Validation\\images\\msg886302187-765229.jpg: 192x256 1 1d, 21.0ms\n",
      "image 31/49 C:\\Users\\Artem\\bboxed_barcodes_dataset\\Validation\\images\\msg886302187-765230.jpg: 256x256 1 1d, 20.0ms\n",
      "image 32/49 C:\\Users\\Artem\\bboxed_barcodes_dataset\\Validation\\images\\msg886302187-765240.jpg: 256x256 1 2d, 18.0ms\n",
      "image 33/49 C:\\Users\\Artem\\bboxed_barcodes_dataset\\Validation\\images\\msg886302187-765250.jpg: 256x224 1 2d, 18.0ms\n",
      "image 34/49 C:\\Users\\Artem\\bboxed_barcodes_dataset\\Validation\\images\\msg886302187-765260.jpg: 256x256 1 2d, 20.0ms\n",
      "image 35/49 C:\\Users\\Artem\\bboxed_barcodes_dataset\\Validation\\images\\msg886302187-765261.jpg: 256x256 1 1d, 19.0ms\n",
      "image 36/49 C:\\Users\\Artem\\bboxed_barcodes_dataset\\Validation\\images\\msg886302187-765262.jpg: 256x96 1 1d, 20.0ms\n",
      "image 37/49 C:\\Users\\Artem\\bboxed_barcodes_dataset\\Validation\\images\\msg886302187-765270.jpg: 128x256 1 1d, 18.0ms\n",
      "image 38/49 C:\\Users\\Artem\\bboxed_barcodes_dataset\\Validation\\images\\msg886302187-765271.jpg: 96x256 1 1d, 21.0ms\n",
      "image 39/49 C:\\Users\\Artem\\bboxed_barcodes_dataset\\Validation\\images\\msg886302187-765272.jpg: 256x256 1 1d, 21.0ms\n",
      "image 40/49 C:\\Users\\Artem\\bboxed_barcodes_dataset\\Validation\\images\\msg886302187-765273.jpg: 96x256 1 1d, 19.0ms\n",
      "image 41/49 C:\\Users\\Artem\\bboxed_barcodes_dataset\\Validation\\images\\msg886302187-765280.jpg: 256x128 1 2d, 223.6ms\n",
      "image 42/49 C:\\Users\\Artem\\bboxed_barcodes_dataset\\Validation\\images\\msg886302187-765281.jpg: 224x256 1 2d, 20.0ms\n",
      "image 43/49 C:\\Users\\Artem\\bboxed_barcodes_dataset\\Validation\\images\\msg886302187-765282.jpg: 96x256 1 1d, 21.0ms\n",
      "image 44/49 C:\\Users\\Artem\\bboxed_barcodes_dataset\\Validation\\images\\msg886302187-765283.jpg: 96x256 1 1d, 19.0ms\n",
      "image 45/49 C:\\Users\\Artem\\bboxed_barcodes_dataset\\Validation\\images\\msg886302187-765290.jpg: 224x256 1 1d, 19.0ms\n",
      "image 46/49 C:\\Users\\Artem\\bboxed_barcodes_dataset\\Validation\\images\\msg886302187-765291.jpg: 256x256 1 2d, 20.0ms\n",
      "image 47/49 C:\\Users\\Artem\\bboxed_barcodes_dataset\\Validation\\images\\msg886302187-765292.jpg: 256x224 1 2d, 19.0ms\n",
      "image 48/49 C:\\Users\\Artem\\bboxed_barcodes_dataset\\Validation\\images\\msg886302187-765293.jpg: 64x256 1 1d, 192.0ms\n",
      "image 49/49 C:\\Users\\Artem\\bboxed_barcodes_dataset\\Validation\\images\\msg886302187-765294.jpg: 256x160 1 1d, 17.0ms\n",
      "Speed: 0.7ms preprocess, 56.1ms inference, 5.5ms postprocess per image at shape (1, 3, 256, 160)\n",
      "Results saved to \u001b[1mruns\\segment\\predict\u001b[0m\n",
      "49 labels saved to runs\\segment\\predict\\labels\n"
     ]
    }
   ],
   "source": [
    "# results = model.val(data=\"bboxed_barcodes_dataset/data.yaml\", save=True, save_txt=True)\n",
    "results = model.predict(source=\"bboxed_barcodes_dataset/Validation/images/*\", save=True, save_txt=True)"
   ]
  },
  {
   "cell_type": "code",
   "execution_count": 3,
   "id": "21d96756-1dee-4ca4-83d0-6c6803c57da1",
   "metadata": {},
   "outputs": [],
   "source": [
    "import os\n",
    "import numpy as np\n",
    "from copy import deepcopy\n",
    "\n",
    "ground_truth_masks = []\n",
    "predicted_masks = []\n",
    "\n",
    "path_to_predicted_labels = \"C:/Users/Artem/runs/segment/predict/labels/\"\n",
    "path_to_gt_labels = \"C:/Users/Artem/bboxed_barcodes_dataset/Validation/labels/\"\n",
    "path_to_images = \"C:/Users/Artem/bboxed_barcodes_dataset/Validation/images/\"\n",
    "\n",
    "images_names = os.listdir(path_to_images)\n",
    "\n",
    "for name in images_names:\n",
    "    name = name[:-4]\n",
    "    img = cv2.imread(path_to_images+name+\".jpg\")\n",
    "    height, width, _ = img.shape\n",
    "    pred_mask = np.zeros((height, width, 1), dtype=np.uint8)\n",
    "    gt_mask = np.zeros((height, width, 1), dtype=np.uint8)\n",
    "    predicted_points = []\n",
    "    gt_points = []\n",
    "\n",
    "    with open(path_to_predicted_labels+name+\".txt\", 'r') as fin:\n",
    "        data = fin.readline().split(' ')[1:]\n",
    "        for i in range(int(len(data)/2)):\n",
    "            predicted_points.append([int(float(data[i*2])*width), int(float(data[i*2+1])*height)])\n",
    "\n",
    "    with open(path_to_gt_labels+name+\".txt\", 'r') as fin:\n",
    "        data = fin.readline().split(' ')[1:]\n",
    "        for i in range(int(len(data)/2)):\n",
    "            gt_points.append([int(float(data[i*2])*width), int(float(data[i*2+1])*height)])\n",
    "\n",
    "    predicted_points = np.array(predicted_points)\n",
    "    gt_points = np.array(gt_points)\n",
    "\n",
    "    predicted_masks.append(cv2.fillPoly(pred_mask, pts=[predicted_points], color=(255)))\n",
    "    ground_truth_masks.append(cv2.fillPoly(gt_mask, pts=[gt_points], color=(255)))"
   ]
  },
  {
   "cell_type": "code",
   "execution_count": 4,
   "id": "918405d5-2e5a-411a-b1da-7a5cd554cbea",
   "metadata": {
    "scrolled": true
   },
   "outputs": [],
   "source": [
    "def calculate_iou(pred_mask, gt_mask):\n",
    "    intersection = np.logical_and(pred_mask, gt_mask).sum()\n",
    "    union = np.logical_or(pred_mask, gt_mask).sum()\n",
    "    iou = intersection / union if union > 0 else 0\n",
    "    return iou"
   ]
  },
  {
   "cell_type": "code",
   "execution_count": 8,
   "id": "dc0c84d1-4919-4033-9d5c-07bbd497ab98",
   "metadata": {},
   "outputs": [
    {
     "name": "stdout",
     "output_type": "stream",
     "text": [
      "mean iou: 0.8285856911690201\n"
     ]
    },
    {
     "data": {
      "text/plain": [
       "[0.9250814332247557,\n",
       " 0.9221209610604806,\n",
       " 0.9204912734324499,\n",
       " 0.923941798941799,\n",
       " 0.9477981918926801,\n",
       " 0.9076376554174067,\n",
       " 0.9125441696113075,\n",
       " 0.9337717238139972,\n",
       " 0.9120567375886525,\n",
       " 0.924219910846954,\n",
       " 0.9219814241486068,\n",
       " 0.910941475826972,\n",
       " 0.9082900384007229,\n",
       " 0.9491853524762058,\n",
       " 0.9333910034602076,\n",
       " 0.8346028291621328,\n",
       " 0.8189845474613686,\n",
       " 0.9058734939759037,\n",
       " 0.8701794578083238,\n",
       " 0.8029948525970987,\n",
       " 0.0,\n",
       " 0.19558529872092395,\n",
       " 0.9356563056820432,\n",
       " 0.9158706833210875,\n",
       " 0.0,\n",
       " 0.8268824771287826,\n",
       " 0.9112808460634547,\n",
       " 0.8120617110799438,\n",
       " 0.7713801862828111,\n",
       " 0.285337552742616,\n",
       " 0.9344853462292075,\n",
       " 0.9490959768217992,\n",
       " 0.9383006535947712,\n",
       " 0.9347374129982826,\n",
       " 0.9398009950248756,\n",
       " 0.8697658519911127,\n",
       " 0.8851774530271399,\n",
       " 0.8817991631799164,\n",
       " 0.8861985472154964,\n",
       " 0.7997039960532807,\n",
       " 0.8866363260239967,\n",
       " 0.9261207112446782,\n",
       " 0.7919732441471572,\n",
       " 0.8482293423271501,\n",
       " 0.942756183745583,\n",
       " 0.9219242902208202,\n",
       " 0.9089108910891089,\n",
       " 0.7070443533358182,\n",
       " 0.9078947368421053]"
      ]
     },
     "execution_count": 8,
     "metadata": {},
     "output_type": "execute_result"
    }
   ],
   "source": [
    "ious = [calculate_iou(predicted_masks[i], ground_truth_masks[i]) for i in range(len(predicted_masks))]\n",
    "print(f\"mean iou: {np.mean(ious)}\")\n",
    "ious"
   ]
  }
 ],
 "metadata": {
  "kernelspec": {
   "display_name": "Python 3 (ipykernel)",
   "language": "python",
   "name": "python3"
  },
  "language_info": {
   "codemirror_mode": {
    "name": "ipython",
    "version": 3
   },
   "file_extension": ".py",
   "mimetype": "text/x-python",
   "name": "python",
   "nbconvert_exporter": "python",
   "pygments_lexer": "ipython3",
   "version": "3.12.1"
  }
 },
 "nbformat": 4,
 "nbformat_minor": 5
}
