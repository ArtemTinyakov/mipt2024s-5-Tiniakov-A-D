{
 "cells": [
  {
   "cell_type": "code",
   "execution_count": 125,
   "id": "69164d66-7385-4aae-8054-763625142215",
   "metadata": {},
   "outputs": [],
   "source": [
    "import cv2 as cv\n",
    "from os import listdir\n",
    "import matplotlib.pyplot as plt\n",
    "import numpy as np"
   ]
  },
  {
   "cell_type": "code",
   "execution_count": 126,
   "id": "4c7a7f2f-08a1-4b58-a896-e7c9f9ef2d2f",
   "metadata": {},
   "outputs": [],
   "source": [
    "output = \"C:/Users/Artem/bboxed_barcodes_dataset/\"\n",
    "input = \"C:/Users/Artem/yolo_barcode_dataset/\"\n",
    "folders = [\"Training/\", \"Validation/\", \"Testing/\"]"
   ]
  },
  {
   "cell_type": "code",
   "execution_count": 127,
   "id": "e98915ae-3ea4-491e-a402-7468a928320b",
   "metadata": {},
   "outputs": [],
   "source": [
    "def erase_bboxes(image, labels, bboxes_out, labels_out):\n",
    "    height, width, _ = image.shape\n",
    "    for i in range(len(labels)):\n",
    "        class_label = int(labels[i][0])\n",
    "        x = [int(labels[i][j*2+1]*width) for j in range(int(len(labels[i])/2))]\n",
    "        y = [int(labels[i][j*2+2]*height) for j in range(int(len(labels[i])/2))]\n",
    "        \n",
    "        left, top, right, bottom = min(x), min(y), max(x), max(y)\n",
    "        \n",
    "        left_stride, top_stride, right_stride, bottom_stride = int(np.random.uniform(0.5, 1.5)*(right-left)), int(np.random.uniform(0.5, 1.5)*(bottom-top)), int(np.random.uniform(0.5, 1.5)*(right-left)), int(np.random.uniform(0.5, 1.5)*(bottom-top))\n",
    "        \n",
    "        left_bbox, top_bbox, right_bbox, bottom_bbox = left - left_stride if left - left_stride >= 0 else 0, top - top_stride if top - top_stride >= 0 else 0, right + right_stride if right + right_stride < width else width-1, bottom + bottom_stride if bottom + bottom_stride < height else height-1\n",
    "\n",
    "        x_new, y_new = [x[j] - left_bbox for j in range(len(x))], [y[j] - top_bbox for j in range(len(y))]\n",
    "\n",
    "        cv.imwrite(bboxes_out[:-4]+str(i)+\".jpg\", image[top_bbox:bottom_bbox,left_bbox:right_bbox,:])\n",
    "\n",
    "        with open(labels_out[:-4]+str(i)+\".txt\", 'w') as fout:\n",
    "            fout.write(f\"{class_label} \")\n",
    "            for j in range(len(x_new)):\n",
    "                fout.write(f\"{x_new[j]/(right_bbox-left_bbox)} {y_new[j]/(bottom_bbox-top_bbox)} \")\n",
    "            fout.write('\\n')"
   ]
  },
  {
   "cell_type": "code",
   "execution_count": 128,
   "id": "c08a3ca5-422f-4c97-b147-41a30a5c1f64",
   "metadata": {},
   "outputs": [],
   "source": [
    "for folder in folders:\n",
    "    images_raw = listdir(input+folder+\"images/\")\n",
    "    labels = [input+folder+\"labels/\"+images_raw[i][:-3]+\"txt\" for i in range(len(images_raw))]\n",
    "    images = [input + folder + \"images/\" + images_raw[i] for i in range(len(images_raw))]\n",
    "\n",
    "    for i in range(len(images)):\n",
    "        image = cv.imread(images[i])\n",
    "        label_str = []\n",
    "        \n",
    "        with open(labels[i], 'r') as fin:\n",
    "            for l in fin:\n",
    "                label_str.append(l[:-3].split(' '))\n",
    "                \n",
    "        label = [[float(label_str[k][j]) for j in range(len(label_str[k]))] for k in range(len(label_str))]\n",
    "\n",
    "        erase_bboxes(image, label, output+folder+\"images/\"+images_raw[i], output+folder+\"labels/\"+images_raw[i][:-3]+\"txt\")"
   ]
  }
 ],
 "metadata": {
  "kernelspec": {
   "display_name": "Python 3 (ipykernel)",
   "language": "python",
   "name": "python3"
  },
  "language_info": {
   "codemirror_mode": {
    "name": "ipython",
    "version": 3
   },
   "file_extension": ".py",
   "mimetype": "text/x-python",
   "name": "python",
   "nbconvert_exporter": "python",
   "pygments_lexer": "ipython3",
   "version": "3.12.1"
  }
 },
 "nbformat": 4,
 "nbformat_minor": 5
}
