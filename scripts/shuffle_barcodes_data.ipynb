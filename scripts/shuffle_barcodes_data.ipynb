{
 "cells": [
  {
   "cell_type": "code",
   "execution_count": 51,
   "id": "c9cb7201-ec5d-4c10-8516-d15f1c450822",
   "metadata": {},
   "outputs": [],
   "source": [
    "import os\n",
    "import numpy as np"
   ]
  },
  {
   "cell_type": "code",
   "execution_count": 52,
   "id": "c2a59576-9793-4722-840f-17cebed6949f",
   "metadata": {},
   "outputs": [],
   "source": [
    "dataset_path = \"C:/Users/Artem/yolo_barcode_dataset/\"\n",
    "labels = os.listdir(dataset_path + \"Training/labels/\")\n",
    "images = os.listdir(dataset_path + \"Training/images/\")"
   ]
  },
  {
   "cell_type": "code",
   "execution_count": 53,
   "id": "a55c4bec-6ebf-4c4c-bfa0-7b5b2e737ee2",
   "metadata": {},
   "outputs": [
    {
     "data": {
      "text/plain": [
       "array([ 98, 107,   3,  66, 116, 108, 170, 135,  60, 159,  78, 125,  34,\n",
       "        53,  85,  56,  15, 155, 110,  33,  44,  81, 131, 172,   5, 169,\n",
       "       137, 127, 160,  89,  90,  58, 142, 171, 149, 134,  86,  87, 100,\n",
       "         9,  50,  26,  36,  69,  72,  24, 151, 146, 115,  83])"
      ]
     },
     "execution_count": 53,
     "metadata": {},
     "output_type": "execute_result"
    }
   ],
   "source": [
    "idxs = np.random.choice(len(labels), 50, replace=False)\n",
    "idxs"
   ]
  },
  {
   "cell_type": "code",
   "execution_count": 54,
   "id": "870d2431-bc3f-4b1d-b626-d990852d55eb",
   "metadata": {},
   "outputs": [],
   "source": [
    "for i in range(40):\n",
    "    os.replace(dataset_path + \"Training/labels/\" + labels[idxs[i]], dataset_path + \"Validation/labels/\" + labels[idxs[i]])\n",
    "    os.replace(dataset_path + \"Training/images/\" + images[idxs[i]], dataset_path + \"Validation/images/\" + images[idxs[i]])\n",
    "\n",
    "for i in range(40, 50):\n",
    "    os.replace(dataset_path + \"Training/labels/\" + labels[idxs[i]], dataset_path + \"Testing/labels/\" + labels[idxs[i]])\n",
    "    os.replace(dataset_path + \"Training/images/\" + images[idxs[i]], dataset_path + \"Testing/images/\" + images[idxs[i]])"
   ]
  }
 ],
 "metadata": {
  "kernelspec": {
   "display_name": "Python 3 (ipykernel)",
   "language": "python",
   "name": "python3"
  },
  "language_info": {
   "codemirror_mode": {
    "name": "ipython",
    "version": 3
   },
   "file_extension": ".py",
   "mimetype": "text/x-python",
   "name": "python",
   "nbconvert_exporter": "python",
   "pygments_lexer": "ipython3",
   "version": "3.12.1"
  }
 },
 "nbformat": 4,
 "nbformat_minor": 5
}
