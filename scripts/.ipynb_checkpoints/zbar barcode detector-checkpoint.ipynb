{
 "cells": [
  {
   "cell_type": "code",
   "execution_count": 8,
   "id": "5b89ba1c-131d-4063-a7ad-7729afb359bd",
   "metadata": {},
   "outputs": [],
   "source": [
    "from PIL import Image\n",
    "from pyzbar.pyzbar import decode, ZBarSymbol\n",
    "\n",
    "img = Image.open(\"C:/Users/Artem/barcodes.png\")"
   ]
  },
  {
   "cell_type": "code",
   "execution_count": 7,
   "id": "bb717a56-756c-42c7-8b85-15c00770adf8",
   "metadata": {},
   "outputs": [
    {
     "name": "stdout",
     "output_type": "stream",
     "text": [
      "<class 'list'>\n",
      "0\n"
     ]
    },
    {
     "ename": "IndexError",
     "evalue": "list index out of range",
     "output_type": "error",
     "traceback": [
      "\u001b[1;31m---------------------------------------------------------------------------\u001b[0m",
      "\u001b[1;31mIndexError\u001b[0m                                Traceback (most recent call last)",
      "Cell \u001b[1;32mIn[7], line 9\u001b[0m\n\u001b[0;32m      6\u001b[0m \u001b[38;5;28mprint\u001b[39m(\u001b[38;5;28mlen\u001b[39m(decoded_list))\n\u001b[0;32m      7\u001b[0m \u001b[38;5;66;03m# 3\u001b[39;00m\n\u001b[1;32m----> 9\u001b[0m \u001b[38;5;28mprint\u001b[39m(\u001b[38;5;28mtype\u001b[39m(\u001b[43mdecoded_list\u001b[49m\u001b[43m[\u001b[49m\u001b[38;5;241;43m0\u001b[39;49m\u001b[43m]\u001b[49m))\n\u001b[0;32m     10\u001b[0m \u001b[38;5;66;03m# <class 'pyzbar.pyzbar.Decoded'>\u001b[39;00m\n\u001b[0;32m     12\u001b[0m \u001b[38;5;28mprint\u001b[39m(decoded_list[\u001b[38;5;241m0\u001b[39m])\n",
      "\u001b[1;31mIndexError\u001b[0m: list index out of range"
     ]
    }
   ],
   "source": [
    "decoded_list = decode(img)\n",
    "\n",
    "print(type(decoded_list))\n",
    "# <class 'list'>\n",
    "\n",
    "print(len(decoded_list))\n",
    "# 3\n",
    "\n",
    "print(type(decoded_list[0]))\n",
    "# <class 'pyzbar.pyzbar.Decoded'>\n",
    "\n",
    "print(decoded_list[0])\n",
    "# Decoded(data=b'QR Code Example', type='QRCODE', rect=Rect(left=8, top=6, width=159, height=160), polygon=[Point(x=8, y=66), Point(x=66, y=166), Point(x=167, y=109), Point(x=108, y=6)], quality=1, orientation='UP')\n",
    "\n",
    "print(decoded_list[1])\n",
    "# Decoded(data=b'1923055034006', type='EAN13', rect=Rect(left=161, top=217, width=175, height=32), polygon=[Point(x=161, y=229), Point(x=239, y=249), Point(x=330, y=248), Point(x=332, y=242), Point(x=335, y=226), Point(x=336, y=220), Point(x=336, y=218), Point(x=248, y=217), Point(x=165, y=217), Point(x=164, y=219), Point(x=162, y=225)], quality=37, orientation='UP')\n",
    "\n",
    "print(decoded_list[2])\n",
    "# Decoded(data=b'9784873117980', type='EAN13', rect=Rect(left=196, top=128, width=158, height=26), polygon=[Point(x=196, y=137), Point(x=267, y=151), Point(x=348, y=154), Point(x=349, y=152), Point(x=352, y=138), Point(x=354, y=128), Point(x=199, y=129), Point(x=197, y=133)], quality=25, orientation='UP')\n"
   ]
  }
 ],
 "metadata": {
  "kernelspec": {
   "display_name": "Python 3 (ipykernel)",
   "language": "python",
   "name": "python3"
  },
  "language_info": {
   "codemirror_mode": {
    "name": "ipython",
    "version": 3
   },
   "file_extension": ".py",
   "mimetype": "text/x-python",
   "name": "python",
   "nbconvert_exporter": "python",
   "pygments_lexer": "ipython3",
   "version": "3.12.1"
  }
 },
 "nbformat": 4,
 "nbformat_minor": 5
}
