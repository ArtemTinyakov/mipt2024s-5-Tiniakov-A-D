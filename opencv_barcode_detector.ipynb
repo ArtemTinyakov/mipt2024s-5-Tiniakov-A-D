{
 "cells": [
  {
   "cell_type": "code",
   "execution_count": 1,
   "id": "1f6fc21b-d072-4884-94e0-aee2bc7af294",
   "metadata": {},
   "outputs": [],
   "source": [
    "import cv2 as cv"
   ]
  },
  {
   "cell_type": "code",
   "execution_count": 23,
   "id": "77d3b3a2-0cdb-46c2-80b2-a20a2eb5472e",
   "metadata": {},
   "outputs": [],
   "source": [
    "img = cv.imread(\"C:\\\\Users\\\\Artem\\\\mipt2024s-5-Tiniakov-A-D\\\\data\\\\train\\\\images\\\\msg886302187-76547.jpg\")\n",
    "img = cv.imread(\"barcodes.png\")"
   ]
  },
  {
   "cell_type": "code",
   "execution_count": 24,
   "id": "c27ee577-ff7e-4926-8a2a-96460b9b6a55",
   "metadata": {},
   "outputs": [],
   "source": [
    "bd = cv.barcode.BarcodeDetector('sr.prototxt', 'sr.caffemodel')"
   ]
  },
  {
   "cell_type": "code",
   "execution_count": 25,
   "id": "0dfde950-e41d-45b0-ba0e-4c66fa047468",
   "metadata": {},
   "outputs": [],
   "source": [
    "retval, decoded_info, decoded_type, points = bd.detectAndDecodeWithType(img)"
   ]
  },
  {
   "cell_type": "code",
   "execution_count": 29,
   "id": "1b43916b-9a0c-4cd8-8df9-c01055121664",
   "metadata": {},
   "outputs": [
    {
     "data": {
      "text/plain": [
       "True"
      ]
     },
     "execution_count": 29,
     "metadata": {},
     "output_type": "execute_result"
    }
   ],
   "source": [
    "img = cv.polylines(img, points.astype(int), True, (0, 255, 0), 3)\n",
    "\n",
    "for s, p in zip(decoded_info, points):\n",
    "    img = cv.putText(img, s, p[1].astype(int),\n",
    "                      cv.FONT_HERSHEY_SIMPLEX, 0.5, (0, 0, 255), 1, cv.LINE_AA)\n",
    "\n",
    "cv.imwrite('barcode_opencv.jpg', img)"
   ]
  }
 ],
 "metadata": {
  "kernelspec": {
   "display_name": "Python 3 (ipykernel)",
   "language": "python",
   "name": "python3"
  },
  "language_info": {
   "codemirror_mode": {
    "name": "ipython",
    "version": 3
   },
   "file_extension": ".py",
   "mimetype": "text/x-python",
   "name": "python",
   "nbconvert_exporter": "python",
   "pygments_lexer": "ipython3",
   "version": "3.12.1"
  }
 },
 "nbformat": 4,
 "nbformat_minor": 5
}
